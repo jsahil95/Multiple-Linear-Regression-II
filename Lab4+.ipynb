{
 "cells": [
  {
   "cell_type": "code",
   "execution_count": 1,
   "metadata": {},
   "outputs": [
    {
     "name": "stderr",
     "output_type": "stream",
     "text": [
      "/Users/sahiljain/anaconda/lib/python2.7/site-packages/statsmodels/compat/pandas.py:56: FutureWarning: The pandas.core.datetools module is deprecated and will be removed in a future version. Please use the pandas.tseries module instead.\n",
      "  from pandas.core import datetools\n"
     ]
    }
   ],
   "source": [
    "import os\n",
    "import pandas as pd \n",
    "import matplotlib.pyplot as plt \n",
    "import numpy as np\n",
    "import statsmodels.api as sm\n",
    "import statsmodels.formula.api as smf\n",
    "from scipy.stats import t as tdist\n",
    "import scipy.stats as stats\n",
    "from statsmodels.stats.outliers_influence import summary_table\n",
    "get_ipython().magic(u'matplotlib inline')\n",
    "from statsmodels.sandbox.regression.predstd import wls_prediction_std as pi"
   ]
  },
  {
   "cell_type": "code",
   "execution_count": 2,
   "metadata": {},
   "outputs": [
    {
     "data": {
      "text/plain": [
       "'/Users/sahiljain'"
      ]
     },
     "execution_count": 2,
     "metadata": {},
     "output_type": "execute_result"
    }
   ],
   "source": [
    "os.getcwd()"
   ]
  },
  {
   "cell_type": "code",
   "execution_count": 3,
   "metadata": {
    "collapsed": true
   },
   "outputs": [],
   "source": [
    "os.chdir(\"/Users/sahiljain/Desktop/Linear Regression /\")"
   ]
  },
  {
   "cell_type": "code",
   "execution_count": 4,
   "metadata": {
    "collapsed": true
   },
   "outputs": [],
   "source": [
    "ForestData = pd.read_csv('forestry.csv')"
   ]
  },
  {
   "cell_type": "code",
   "execution_count": 5,
   "metadata": {
    "collapsed": true
   },
   "outputs": [],
   "source": [
    "# Initializing the variables (response and dependent)"
   ]
  },
  {
   "cell_type": "code",
   "execution_count": 6,
   "metadata": {
    "collapsed": true
   },
   "outputs": [],
   "source": [
    "y = ForestData[\"area\"]\n",
    "x1 = ForestData[\"height\"]\n",
    "x2 = ForestData[\"caliper\"]\n",
    "x3 = ForestData[\"htcal\"]"
   ]
  },
  {
   "cell_type": "code",
   "execution_count": 7,
   "metadata": {
    "collapsed": true
   },
   "outputs": [],
   "source": [
    "# (A) Fit a multiple linear model realting to area to the three \n",
    "# explanatory variables listed above and construct the following residuls\n",
    "# plot : \n",
    "# (i) Studentized Residuals vs Index \n",
    "# (ii) Studentized Residuals vs Fitted Values\n",
    "# (iii) histogram of Studentized residuals\n",
    "# (iv) QQ-Plot of Studentized Residuals "
   ]
  },
  {
   "cell_type": "code",
   "execution_count": 8,
   "metadata": {},
   "outputs": [
    {
     "data": {
      "text/html": [
       "<table class=\"simpletable\">\n",
       "<caption>OLS Regression Results</caption>\n",
       "<tr>\n",
       "  <th>Dep. Variable:</th>            <td>y</td>        <th>  R-squared:         </th> <td>   0.878</td>\n",
       "</tr>\n",
       "<tr>\n",
       "  <th>Model:</th>                   <td>OLS</td>       <th>  Adj. R-squared:    </th> <td>   0.866</td>\n",
       "</tr>\n",
       "<tr>\n",
       "  <th>Method:</th>             <td>Least Squares</td>  <th>  F-statistic:       </th> <td>   74.14</td>\n",
       "</tr>\n",
       "<tr>\n",
       "  <th>Date:</th>             <td>Tue, 31 Oct 2017</td> <th>  Prob (F-statistic):</th> <td>3.08e-14</td>\n",
       "</tr>\n",
       "<tr>\n",
       "  <th>Time:</th>                 <td>19:39:11</td>     <th>  Log-Likelihood:    </th> <td> -153.77</td>\n",
       "</tr>\n",
       "<tr>\n",
       "  <th>No. Observations:</th>      <td>    35</td>      <th>  AIC:               </th> <td>   315.5</td>\n",
       "</tr>\n",
       "<tr>\n",
       "  <th>Df Residuals:</th>          <td>    31</td>      <th>  BIC:               </th> <td>   321.8</td>\n",
       "</tr>\n",
       "<tr>\n",
       "  <th>Df Model:</th>              <td>     3</td>      <th>                     </th>     <td> </td>   \n",
       "</tr>\n",
       "<tr>\n",
       "  <th>Covariance Type:</th>      <td>nonrobust</td>    <th>                     </th>     <td> </td>   \n",
       "</tr>\n",
       "</table>\n",
       "<table class=\"simpletable\">\n",
       "<tr>\n",
       "      <td></td>         <th>coef</th>     <th>std err</th>      <th>t</th>      <th>P>|t|</th>  <th>[0.025</th>    <th>0.975]</th>  \n",
       "</tr>\n",
       "<tr>\n",
       "  <th>Intercept</th> <td>  -33.1765</td> <td>   55.096</td> <td>   -0.602</td> <td> 0.551</td> <td> -145.545</td> <td>   79.192</td>\n",
       "</tr>\n",
       "<tr>\n",
       "  <th>x1</th>        <td>    3.7354</td> <td>    1.952</td> <td>    1.914</td> <td> 0.065</td> <td>   -0.245</td> <td>    7.716</td>\n",
       "</tr>\n",
       "<tr>\n",
       "  <th>x2</th>        <td>  -74.1170</td> <td>  114.012</td> <td>   -0.650</td> <td> 0.520</td> <td> -306.647</td> <td>  158.413</td>\n",
       "</tr>\n",
       "<tr>\n",
       "  <th>x3</th>        <td>    2.2343</td> <td>    3.539</td> <td>    0.631</td> <td> 0.532</td> <td>   -4.983</td> <td>    9.451</td>\n",
       "</tr>\n",
       "</table>\n",
       "<table class=\"simpletable\">\n",
       "<tr>\n",
       "  <th>Omnibus:</th>       <td> 8.550</td> <th>  Durbin-Watson:     </th> <td>   1.840</td>\n",
       "</tr>\n",
       "<tr>\n",
       "  <th>Prob(Omnibus):</th> <td> 0.014</td> <th>  Jarque-Bera (JB):  </th> <td>  10.088</td>\n",
       "</tr>\n",
       "<tr>\n",
       "  <th>Skew:</th>          <td> 0.604</td> <th>  Prob(JB):          </th> <td> 0.00645</td>\n",
       "</tr>\n",
       "<tr>\n",
       "  <th>Kurtosis:</th>      <td> 5.337</td> <th>  Cond. No.          </th> <td>1.30e+03</td>\n",
       "</tr>\n",
       "</table>"
      ],
      "text/plain": [
       "<class 'statsmodels.iolib.summary.Summary'>\n",
       "\"\"\"\n",
       "                            OLS Regression Results                            \n",
       "==============================================================================\n",
       "Dep. Variable:                      y   R-squared:                       0.878\n",
       "Model:                            OLS   Adj. R-squared:                  0.866\n",
       "Method:                 Least Squares   F-statistic:                     74.14\n",
       "Date:                Tue, 31 Oct 2017   Prob (F-statistic):           3.08e-14\n",
       "Time:                        19:39:11   Log-Likelihood:                -153.77\n",
       "No. Observations:                  35   AIC:                             315.5\n",
       "Df Residuals:                      31   BIC:                             321.8\n",
       "Df Model:                           3                                         \n",
       "Covariance Type:            nonrobust                                         \n",
       "==============================================================================\n",
       "                 coef    std err          t      P>|t|      [0.025      0.975]\n",
       "------------------------------------------------------------------------------\n",
       "Intercept    -33.1765     55.096     -0.602      0.551    -145.545      79.192\n",
       "x1             3.7354      1.952      1.914      0.065      -0.245       7.716\n",
       "x2           -74.1170    114.012     -0.650      0.520    -306.647     158.413\n",
       "x3             2.2343      3.539      0.631      0.532      -4.983       9.451\n",
       "==============================================================================\n",
       "Omnibus:                        8.550   Durbin-Watson:                   1.840\n",
       "Prob(Omnibus):                  0.014   Jarque-Bera (JB):               10.088\n",
       "Skew:                           0.604   Prob(JB):                      0.00645\n",
       "Kurtosis:                       5.337   Cond. No.                     1.30e+03\n",
       "==============================================================================\n",
       "\n",
       "Warnings:\n",
       "[1] Standard Errors assume that the covariance matrix of the errors is correctly specified.\n",
       "[2] The condition number is large, 1.3e+03. This might indicate that there are\n",
       "strong multicollinearity or other numerical problems.\n",
       "\"\"\""
      ]
     },
     "execution_count": 8,
     "metadata": {},
     "output_type": "execute_result"
    }
   ],
   "source": [
    "# Multiple Linear Regression model with area as response variable.\n",
    "lm = smf.ols('y ~ x1 + x2 + x3', data = ForestData)\n",
    "model1 = lm.fit()\n",
    "model1.summary()"
   ]
  },
  {
   "cell_type": "code",
   "execution_count": 9,
   "metadata": {
    "collapsed": true
   },
   "outputs": [],
   "source": [
    "# Manually Calculating for studetized residuals \n",
    "n = ForestData.shape[0]\n",
    "p = ForestData.shape[1]-1\n",
    "sigma_hat_1 = np.sqrt(model1.scale) # sigma hat\n",
    "X_1 = np.array([np.repeat(1,n), x1, x2, x3]).transpose() # X matrix\n",
    "H_1 = np.matmul(np.matmul(X_1, np.linalg.inv(np.matmul(X_1.transpose(), X_1))),\n",
    "                X_1.transpose()) # Hat Matrix\n",
    "h_1 = np.diag(H_1)\n",
    "st_resid_1 = model1.resid/(sigma_hat_1*np.sqrt(1-h_1))"
   ]
  },
  {
   "cell_type": "code",
   "execution_count": 10,
   "metadata": {},
   "outputs": [
    {
     "data": {
      "text/plain": [
       "(1, 35)"
      ]
     },
     "execution_count": 10,
     "metadata": {},
     "output_type": "execute_result"
    },
    {
     "data": {
      "image/png": "[encoded data removed]",
      "text/plain": [
       "<matplotlib.figure.Figure at 0x11a84fb90>"
      ]
     },
     "metadata": {},
     "output_type": "display_data"
    }
   ],
   "source": [
    "# PLOTS : \n",
    "# (i) Studentized residuals vs Index\n",
    "n = len(model1.resid)\n",
    "index = np.linspace(1,n,n)\n",
    "plt.figure()\n",
    "plt.scatter(x = index, y = st_resid_1, color = \"black\")\n",
    "plt.xlabel(\"Index\")\n",
    "plt.ylabel(\"Stundentized Residuals\")\n",
    "plt.title(\"Studentized Residuals vs Index\")\n",
    "plt.hlines(y = 0, xmin = 1, xmax = n, color = \"red\", linewidth = 2)\n",
    "plt.hlines(y = 3, xmin = 1, xmax = n, color = \"red\", linewidth = 2)\n",
    "plt.hlines(y = -3, xmin = 1, xmax = n, color = \"red\", linewidth = 2)\n",
    "plt.xlim(1,n)"
   ]
  },
  {
   "cell_type": "code",
   "execution_count": 11,
   "metadata": {},
   "outputs": [
    {
     "data": {
      "text/plain": [
       "(11.625771928764683, 185.20982607241177)"
      ]
     },
     "execution_count": 11,
     "metadata": {},
     "output_type": "execute_result"
    },
    {
     "data": {
      "image/png": "[encoded data removed]",
      "text/plain": [
       "<matplotlib.figure.Figure at 0x11e53fd50>"
      ]
     },
     "metadata": {},
     "output_type": "display_data"
    }
   ],
   "source": [
    "#(ii) Studentized residuals vs Fitted values\n",
    "plt.figure()\n",
    "plt.scatter(x = model1.fittedvalues, y = st_resid_1, color = \"black\")\n",
    "plt.xlabel(\"Fitted Values\")\n",
    "plt.ylabel(\"Studentized residuals\")\n",
    "plt.title(\"Studentized Residuals vs Fitted values\")\n",
    "plt.hlines(y = 0, xmin = np.min(model1.fittedvalues), \n",
    "          xmax = np.max(model1.fittedvalues), color = \"red\",\n",
    "          linewidth = 2)\n",
    "plt.hlines(y = 3, xmin = np.min(model1.fittedvalues), \n",
    "          xmax = np.max(model1.fittedvalues), color = \"red\",\n",
    "          linewidth = 2)\n",
    "plt.hlines(y = -3, xmin = np.min(model1.fittedvalues), \n",
    "          xmax = np.max(model1.fittedvalues), color = \"red\",\n",
    "          linewidth = 2)\n",
    "plt.xlim(np.min(model1.fittedvalues), np.max(model1.fittedvalues))"
   ]
  },
  {
   "cell_type": "code",
   "execution_count": 12,
   "metadata": {},
   "outputs": [
    {
     "data": {
      "text/plain": [
       "<matplotlib.text.Text at 0x11e603290>"
      ]
     },
     "execution_count": 12,
     "metadata": {},
     "output_type": "execute_result"
    },
    {
     "data": {
      "image/png": "[encoded data removed]",
      "text/plain": [
       "<matplotlib.figure.Figure at 0x11a84f650>"
      ]
     },
     "metadata": {},
     "output_type": "display_data"
    }
   ],
   "source": [
    "#(iii) Histogram of studentized residuals\n",
    "plt.hist(st_resid_1)\n",
    "plt.title(\"Histogram of Studentized residuals\")\n",
    "plt.xlabel(\"Studentized residuals\")\n",
    "plt.ylabel(\"Frequency\")"
   ]
  },
  {
   "cell_type": "code",
   "execution_count": 13,
   "metadata": {},
   "outputs": [
    {
     "data": {
      "text/plain": [
       "<matplotlib.text.Text at 0x11e6f6690>"
      ]
     },
     "execution_count": 13,
     "metadata": {},
     "output_type": "execute_result"
    },
    {
     "data": {
      "image/png": "[encoded data removed]",
      "text/plain": [
       "<matplotlib.figure.Figure at 0x11e3f0810>"
      ]
     },
     "metadata": {},
     "output_type": "display_data"
    }
   ],
   "source": [
    "#(iv) QQ-Plot of the studentized residuals \n",
    "sm.qqplot(st_resid_1, dist = \"norm\", fit = True, line = '45')\n",
    "plt.title(\"QQ-Plot of residuals\")"
   ]
  },
  {
   "cell_type": "code",
   "execution_count": 14,
   "metadata": {
    "collapsed": true
   },
   "outputs": [],
   "source": [
    "#(B) Based on the plots in (a), answer “Yes” or “No” to the following \n",
    "# questions and give a one sentence justification.\n",
    "\n",
    "# (i) Do the residuals appear to be independent ? \n",
    "# Yes, the residuals appear to be independent in case of Index vs \n",
    "# Studentized residuals and in case of the histogram of the studentized \n",
    "# residuals. \n",
    "\n",
    "# (ii) Do the residuals appear to have constant variance. \n",
    "# No, If we look at the plot of Studentized residuals vs Fitted values \n",
    "# the residuals appear to have follow a pattern which means that they do \n",
    "# not have constant variance. \n",
    "\n",
    "# (iii) Do the residuals appear to be nornally distributed ? \n",
    "# No, the residuals do not appear to be normally distributed because \n",
    "# QQ-Plot gives an evidence of heavy tailed (right skewed) Distribution. \n",
    "\n",
    "# (iv) Do the residuals suggest existance of an outlier. \n",
    "# Yes, the reiduals do suggest an existance of an outlier becuase if we \n",
    "# look at the plots the histogram is normally distibuted where as QQ-Plot \n",
    "# and Fitted values appear to be dependent and thus giving a small idea \n",
    "# about the existance of an outlier. "
   ]
  },
  {
   "cell_type": "code",
   "execution_count": 15,
   "metadata": {},
   "outputs": [
    {
     "data": {
      "text/plain": [
       "(array([28]),)"
      ]
     },
     "execution_count": 15,
     "metadata": {},
     "output_type": "execute_result"
    }
   ],
   "source": [
    "# (C) Which observation has the largest studentized residual ?\n",
    "np.where(st_resid_1 > 3)"
   ]
  },
  {
   "cell_type": "code",
   "execution_count": 18,
   "metadata": {
    "collapsed": true
   },
   "outputs": [],
   "source": [
    "# From the code it appears like observation 29 has the largest studentized\n",
    "# residual. "
   ]
  },
  {
   "cell_type": "code",
   "execution_count": 19,
   "metadata": {
    "collapsed": true
   },
   "outputs": [],
   "source": [
    "# (D) Calculate the leverge for each observation and construst a plot of \n",
    "# them vs their index. Which observation have 'high' levarage (i.e., \n",
    "# leverage larger than twice the average leverage) ? "
   ]
  },
  {
   "cell_type": "code",
   "execution_count": 20,
   "metadata": {},
   "outputs": [
    {
     "data": {
      "text/plain": [
       "array([ 0.44838774,  0.30870904,  0.10045117,  0.07821682,  0.07614714,\n",
       "        0.05467466,  0.04703267,  0.07039175,  0.10129502,  0.15782718,\n",
       "        0.06101001,  0.06332837,  0.08475604,  0.10160375,  0.05851252,\n",
       "        0.14058356,  0.17481524,  0.07363143,  0.08240691,  0.06658612,\n",
       "        0.07138849,  0.05336468,  0.08475604,  0.28433074,  0.07381084,\n",
       "        0.06590437,  0.10324293,  0.09233541,  0.06103058,  0.08810671,\n",
       "        0.12357671,  0.25651243,  0.13581279,  0.08286254,  0.0725976 ])"
      ]
     },
     "execution_count": 20,
     "metadata": {},
     "output_type": "execute_result"
    }
   ],
   "source": [
    "h_1"
   ]
  },
  {
   "cell_type": "code",
   "execution_count": 21,
   "metadata": {
    "collapsed": true
   },
   "outputs": [],
   "source": [
    "# Plot of Levarage vs Index"
   ]
  },
  {
   "cell_type": "code",
   "execution_count": 22,
   "metadata": {},
   "outputs": [
    {
     "data": {
      "text/plain": [
       "<matplotlib.text.Text at 0x11e7360d0>"
      ]
     },
     "execution_count": 22,
     "metadata": {},
     "output_type": "execute_result"
    },
    {
     "data": {
      "image/png": "[encoded data removed]",
      "text/plain": [
       "<matplotlib.figure.Figure at 0x11e608c90>"
      ]
     },
     "metadata": {},
     "output_type": "display_data"
    }
   ],
   "source": [
    "plt.figure()\n",
    "plt.subplot(1,2,1)\n",
    "plt.scatter(x = np.linspace(1,n,n), y = h_1)\n",
    "plt.hlines(y = 2*np.mean(h_1), xmin = 1, xmax = n, color = \"red\")\n",
    "plt.xlabel(\"Index\")\n",
    "plt.ylabel(\"Hat values\")\n",
    "plt.title(\"Leverage\")"
   ]
  },
  {
   "cell_type": "code",
   "execution_count": 23,
   "metadata": {},
   "outputs": [
    {
     "data": {
      "text/plain": [
       "(array([ 0,  1, 23, 31]),)"
      ]
     },
     "execution_count": 23,
     "metadata": {},
     "output_type": "execute_result"
    }
   ],
   "source": [
    "# Observation with high levarage \n",
    "np.where(h_1 > 2*np.mean(h_1))"
   ]
  },
  {
   "cell_type": "code",
   "execution_count": 24,
   "metadata": {
    "collapsed": true
   },
   "outputs": [],
   "source": [
    "# Points with high leverages are 1,2,24,32. "
   ]
  },
  {
   "cell_type": "code",
   "execution_count": 25,
   "metadata": {
    "collapsed": true
   },
   "outputs": [],
   "source": [
    "# (E)  Calculate Cook’s D-statistic for each observation and construct a \n",
    "# plot of them vs.their index. List the top three most influential points."
   ]
  },
  {
   "cell_type": "code",
   "execution_count": 26,
   "metadata": {
    "collapsed": true
   },
   "outputs": [],
   "source": [
    "# Calculating cooks distance\n",
    "D = (h_1*st_resid_1**2)/((1-h_1)*(p+1))"
   ]
  },
  {
   "cell_type": "code",
   "execution_count": 27,
   "metadata": {
    "scrolled": true
   },
   "outputs": [
    {
     "data": {
      "text/plain": [
       "<matplotlib.text.Text at 0x11e7cc150>"
      ]
     },
     "execution_count": 27,
     "metadata": {},
     "output_type": "execute_result"
    },
    {
     "data": {
      "image/png": "[encoded data removed]",
      "text/plain": [
       "<matplotlib.figure.Figure at 0x11e46db10>"
      ]
     },
     "metadata": {},
     "output_type": "display_data"
    }
   ],
   "source": [
    "plt.subplot(1,2,2)\n",
    "plt.scatter(x = np.linspace(1,n,n), y = D)\n",
    "plt.hlines(y = 0.5, xmin = 1, xmax = n, color = \"red\")\n",
    "plt.xlabel(\"Index\")\n",
    "plt.ylabel(\"Cook's D\")\n",
    "plt.title(\"Influence\")"
   ]
  },
  {
   "cell_type": "code",
   "execution_count": 28,
   "metadata": {},
   "outputs": [
    {
     "data": {
      "text/plain": [
       "[9, 28, 30]"
      ]
     },
     "execution_count": 28,
     "metadata": {},
     "output_type": "execute_result"
    }
   ],
   "source": [
    "# List the top 3 most influential points\n",
    "maxInfluence = sorted(range(len(D)), key = lambda i: D[i], \n",
    "                      reverse = True)[:3]\n",
    "maxInfluence"
   ]
  },
  {
   "cell_type": "code",
   "execution_count": 28,
   "metadata": {
    "collapsed": true
   },
   "outputs": [],
   "source": [
    "# From the code it appears that observation 10, 29 and 31 have the highest\n",
    "# influence"
   ]
  },
  {
   "cell_type": "code",
   "execution_count": 56,
   "metadata": {
    "collapsed": true
   },
   "outputs": [],
   "source": [
    "# (F) Repeat part (a) but with observation 10 and 29 deleted. "
   ]
  },
  {
   "cell_type": "code",
   "execution_count": 29,
   "metadata": {
    "collapsed": true
   },
   "outputs": [],
   "source": [
    "# Deleting the observations\n",
    "Forest_new = ForestData.drop(ForestData.index[[9,28]])"
   ]
  },
  {
   "cell_type": "code",
   "execution_count": 30,
   "metadata": {
    "collapsed": true
   },
   "outputs": [],
   "source": [
    "# Repeating part a first by initializing variables. \n",
    "y_2 = Forest_new[\"area\"]\n",
    "x_1_new = Forest_new[\"height\"]\n",
    "x_2_new = Forest_new[\"caliper\"]\n",
    "x_3_new = Forest_new[\"htcal\"]"
   ]
  },
  {
   "cell_type": "code",
   "execution_count": 31,
   "metadata": {},
   "outputs": [
    {
     "data": {
      "text/html": [
       "<table class=\"simpletable\">\n",
       "<caption>OLS Regression Results</caption>\n",
       "<tr>\n",
       "  <th>Dep. Variable:</th>           <td>y_2</td>       <th>  R-squared:         </th> <td>   0.929</td>\n",
       "</tr>\n",
       "<tr>\n",
       "  <th>Model:</th>                   <td>OLS</td>       <th>  Adj. R-squared:    </th> <td>   0.922</td>\n",
       "</tr>\n",
       "<tr>\n",
       "  <th>Method:</th>             <td>Least Squares</td>  <th>  F-statistic:       </th> <td>   126.3</td>\n",
       "</tr>\n",
       "<tr>\n",
       "  <th>Date:</th>             <td>Tue, 31 Oct 2017</td> <th>  Prob (F-statistic):</th> <td>9.59e-17</td>\n",
       "</tr>\n",
       "<tr>\n",
       "  <th>Time:</th>                 <td>19:42:08</td>     <th>  Log-Likelihood:    </th> <td> -135.33</td>\n",
       "</tr>\n",
       "<tr>\n",
       "  <th>No. Observations:</th>      <td>    33</td>      <th>  AIC:               </th> <td>   278.7</td>\n",
       "</tr>\n",
       "<tr>\n",
       "  <th>Df Residuals:</th>          <td>    29</td>      <th>  BIC:               </th> <td>   284.6</td>\n",
       "</tr>\n",
       "<tr>\n",
       "  <th>Df Model:</th>              <td>     3</td>      <th>                     </th>     <td> </td>   \n",
       "</tr>\n",
       "<tr>\n",
       "  <th>Covariance Type:</th>      <td>nonrobust</td>    <th>                     </th>     <td> </td>   \n",
       "</tr>\n",
       "</table>\n",
       "<table class=\"simpletable\">\n",
       "<tr>\n",
       "      <td></td>         <th>coef</th>     <th>std err</th>      <th>t</th>      <th>P>|t|</th>  <th>[0.025</th>    <th>0.975]</th>  \n",
       "</tr>\n",
       "<tr>\n",
       "  <th>Intercept</th> <td>  -21.6149</td> <td>   41.883</td> <td>   -0.516</td> <td> 0.610</td> <td> -107.275</td> <td>   64.045</td>\n",
       "</tr>\n",
       "<tr>\n",
       "  <th>x_1_new</th>   <td>    3.0181</td> <td>    1.474</td> <td>    2.048</td> <td> 0.050</td> <td>    0.004</td> <td>    6.032</td>\n",
       "</tr>\n",
       "<tr>\n",
       "  <th>x_2_new</th>   <td>  -86.2375</td> <td>   87.225</td> <td>   -0.989</td> <td> 0.331</td> <td> -264.633</td> <td>   92.158</td>\n",
       "</tr>\n",
       "<tr>\n",
       "  <th>x_3_new</th>   <td>    3.1061</td> <td>    2.676</td> <td>    1.161</td> <td> 0.255</td> <td>   -2.368</td> <td>    8.580</td>\n",
       "</tr>\n",
       "</table>\n",
       "<table class=\"simpletable\">\n",
       "<tr>\n",
       "  <th>Omnibus:</th>       <td> 0.770</td> <th>  Durbin-Watson:     </th> <td>   1.838</td>\n",
       "</tr>\n",
       "<tr>\n",
       "  <th>Prob(Omnibus):</th> <td> 0.680</td> <th>  Jarque-Bera (JB):  </th> <td>   0.136</td>\n",
       "</tr>\n",
       "<tr>\n",
       "  <th>Skew:</th>          <td> 0.073</td> <th>  Prob(JB):          </th> <td>   0.934</td>\n",
       "</tr>\n",
       "<tr>\n",
       "  <th>Kurtosis:</th>      <td> 3.278</td> <th>  Cond. No.          </th> <td>1.27e+03</td>\n",
       "</tr>\n",
       "</table>"
      ],
      "text/plain": [
       "<class 'statsmodels.iolib.summary.Summary'>\n",
       "\"\"\"\n",
       "                            OLS Regression Results                            \n",
       "==============================================================================\n",
       "Dep. Variable:                    y_2   R-squared:                       0.929\n",
       "Model:                            OLS   Adj. R-squared:                  0.922\n",
       "Method:                 Least Squares   F-statistic:                     126.3\n",
       "Date:                Tue, 31 Oct 2017   Prob (F-statistic):           9.59e-17\n",
       "Time:                        19:42:08   Log-Likelihood:                -135.33\n",
       "No. Observations:                  33   AIC:                             278.7\n",
       "Df Residuals:                      29   BIC:                             284.6\n",
       "Df Model:                           3                                         \n",
       "Covariance Type:            nonrobust                                         \n",
       "==============================================================================\n",
       "                 coef    std err          t      P>|t|      [0.025      0.975]\n",
       "------------------------------------------------------------------------------\n",
       "Intercept    -21.6149     41.883     -0.516      0.610    -107.275      64.045\n",
       "x_1_new        3.0181      1.474      2.048      0.050       0.004       6.032\n",
       "x_2_new      -86.2375     87.225     -0.989      0.331    -264.633      92.158\n",
       "x_3_new        3.1061      2.676      1.161      0.255      -2.368       8.580\n",
       "==============================================================================\n",
       "Omnibus:                        0.770   Durbin-Watson:                   1.838\n",
       "Prob(Omnibus):                  0.680   Jarque-Bera (JB):                0.136\n",
       "Skew:                           0.073   Prob(JB):                        0.934\n",
       "Kurtosis:                       3.278   Cond. No.                     1.27e+03\n",
       "==============================================================================\n",
       "\n",
       "Warnings:\n",
       "[1] Standard Errors assume that the covariance matrix of the errors is correctly specified.\n",
       "[2] The condition number is large, 1.27e+03. This might indicate that there are\n",
       "strong multicollinearity or other numerical problems.\n",
       "\"\"\""
      ]
     },
     "execution_count": 31,
     "metadata": {},
     "output_type": "execute_result"
    }
   ],
   "source": [
    "# Multiple Linear regression with the deleted observation \n",
    "lm = smf.ols('y_2 ~ x_1_new + x_2_new + x_3_new', data = Forest_new)\n",
    "model2 = lm.fit()\n",
    "model2.summary()"
   ]
  },
  {
   "cell_type": "code",
   "execution_count": 32,
   "metadata": {
    "collapsed": true
   },
   "outputs": [],
   "source": [
    "# Manually calculating new Studentized residual. \n",
    "n2 = len(model2.resid)\n",
    "index = np.linspace(1,n2,n2)\n",
    "sigma_hat_2 = np.sqrt(model2.scale)\n",
    "X_2 = np.array([np.repeat(1,n2), x_1_new, x_2_new, x_3_new]).transpose()\n",
    "H_2 = np.matmul(np.matmul(X_2, np.linalg.inv(np.matmul(X_2.transpose(), X_2))),\n",
    "                X_2.transpose())\n",
    "h_2 = np.diag(H_2)\n",
    "st_resid_2 = model2.resid/(sigma_hat_2*np.sqrt(1-h_2))"
   ]
  },
  {
   "cell_type": "code",
   "execution_count": 33,
   "metadata": {},
   "outputs": [
    {
     "data": {
      "text/plain": [
       "(1, 33)"
      ]
     },
     "execution_count": 33,
     "metadata": {},
     "output_type": "execute_result"
    },
    {
     "data": {
      "image/png": "[encoded data removed]",
      "text/plain": [
       "<matplotlib.figure.Figure at 0x11e9518d0>"
      ]
     },
     "metadata": {},
     "output_type": "display_data"
    }
   ],
   "source": [
    "# (i) Studentized Residuals vs Index\n",
    "n = len(model2.resid)\n",
    "index = np.linspace(1,n,n)\n",
    "plt.figure()\n",
    "plt.scatter(x = index, y = st_resid_2, color = \"black\")\n",
    "plt.xlabel(\"Index\")\n",
    "plt.ylabel(\"Stundentized Residuals\")\n",
    "plt.title(\"Studentized Residuals vs Index\")\n",
    "plt.hlines(y = 0, xmin = 1, xmax = n, color = \"red\", linewidth = 2)\n",
    "plt.hlines(y = 3, xmin = 1, xmax = n, color = \"red\", linewidth = 2)\n",
    "plt.hlines(y = -3, xmin = 1, xmax = n, color = \"red\", linewidth = 2)\n",
    "plt.xlim(1,n)"
   ]
  },
  {
   "cell_type": "code",
   "execution_count": 34,
   "metadata": {},
   "outputs": [
    {
     "data": {
      "text/plain": [
       "(12.424564797265059, 182.83037708140603)"
      ]
     },
     "execution_count": 34,
     "metadata": {},
     "output_type": "execute_result"
    },
    {
     "data": {
      "image/png": "[encoded data removed]",
      "text/plain": [
       "<matplotlib.figure.Figure at 0x11e967a10>"
      ]
     },
     "metadata": {},
     "output_type": "display_data"
    }
   ],
   "source": [
    "#(ii) Studentized residuals vs fitted values\n",
    "plt.figure()\n",
    "plt.scatter(x = model2.fittedvalues, y = st_resid_2, color = \"black\")\n",
    "plt.xlabel(\"Fitted Values\")\n",
    "plt.ylabel(\"Studentized residuals\")\n",
    "plt.title(\"Studentized residuals vs Fitted values\")\n",
    "plt.hlines(y = 0, xmin = np.min(model2.fittedvalues), \n",
    "           xmax = np.max(model2.fittedvalues), color = \"red\", \n",
    "           linewidth = 2)\n",
    "plt.hlines(y = 3, xmin = np.min(model2.fittedvalues), \n",
    "           xmax = np.max(model2.fittedvalues), color = \"red\", \n",
    "           linewidth = 2)\n",
    "plt.hlines(y = -3, xmin = np.min(model2.fittedvalues), \n",
    "           xmax = np.max(model2.fittedvalues),color = \"red\", \n",
    "           linewidth = 2)\n",
    "plt.xlim(np.min(model2.fittedvalues), np.max(model2.fittedvalues))"
   ]
  },
  {
   "cell_type": "code",
   "execution_count": 35,
   "metadata": {},
   "outputs": [
    {
     "data": {
      "text/plain": [
       "<matplotlib.text.Text at 0x11eb5f050>"
      ]
     },
     "execution_count": 35,
     "metadata": {},
     "output_type": "execute_result"
    },
    {
     "data": {
      "image/png": "[encoded data removed]",
      "text/plain": [
       "<matplotlib.figure.Figure at 0x11e8c25d0>"
      ]
     },
     "metadata": {},
     "output_type": "display_data"
    }
   ],
   "source": [
    "#(iii) Histogram of studenttized residuals\n",
    "plt.hist(st_resid_2)\n",
    "plt.title(\"Histogram of Studentized residuals\")\n",
    "plt.ylabel(\"Frequency\")\n",
    "plt.xlabel(\"Studentized residuals\")"
   ]
  },
  {
   "cell_type": "code",
   "execution_count": 36,
   "metadata": {},
   "outputs": [
    {
     "data": {
      "text/plain": [
       "<matplotlib.text.Text at 0x11ed12f90>"
      ]
     },
     "execution_count": 36,
     "metadata": {},
     "output_type": "execute_result"
    },
    {
     "data": {
      "image/png": "[encoded data removed]",
      "text/plain": [
       "<matplotlib.figure.Figure at 0x11ec28dd0>"
      ]
     },
     "metadata": {},
     "output_type": "display_data"
    }
   ],
   "source": [
    "#(iv) QQ-Plot of the studentized residuals\n",
    "sm.qqplot(st_resid_2, dist = \"norm\", fit = True, line = '45')\n",
    "plt.title(\"QQ-Plot of residuals\")"
   ]
  },
  {
   "cell_type": "code",
   "execution_count": 37,
   "metadata": {
    "collapsed": true
   },
   "outputs": [],
   "source": [
    "# (G)  Consider the plot of the Studentized Residuals vs. \n",
    "# Fitted Values from (f). Do these residuals appear to have constant \n",
    "# variance? Answer “Yes” or “No” with a\n",
    "\n",
    "# No these residuals do not appear to have a constant variance because \n",
    "# these residuals follow a non-random pattern over fitted values giving \n",
    "# an evidence that residuals are dependent and thus do not have a \n",
    "# constant variance. "
   ]
  },
  {
   "cell_type": "code",
   "execution_count": 38,
   "metadata": {
    "collapsed": true
   },
   "outputs": [],
   "source": [
    "# (H) Fit a multiple linear regression model relating log(area) \n",
    "# (i.e., the natural logarithm of area) to the three explanatory \n",
    "# variables, excluding observations 10 and 29 as you did in (f)\n",
    "\n",
    "# First we will calculate the logrithmic value of the area and then a \n",
    "# MLR of log(area) as response variable with respect to new model with \n",
    "# observation 10 and 29 deleted. "
   ]
  },
  {
   "cell_type": "code",
   "execution_count": 39,
   "metadata": {
    "collapsed": true
   },
   "outputs": [],
   "source": [
    "# Log of area\n",
    "y_3 = np.log(y_2)"
   ]
  },
  {
   "cell_type": "code",
   "execution_count": 40,
   "metadata": {},
   "outputs": [
    {
     "data": {
      "text/html": [
       "<table class=\"simpletable\">\n",
       "<caption>OLS Regression Results</caption>\n",
       "<tr>\n",
       "  <th>Dep. Variable:</th>           <td>y_3</td>       <th>  R-squared:         </th> <td>   0.938</td>\n",
       "</tr>\n",
       "<tr>\n",
       "  <th>Model:</th>                   <td>OLS</td>       <th>  Adj. R-squared:    </th> <td>   0.931</td>\n",
       "</tr>\n",
       "<tr>\n",
       "  <th>Method:</th>             <td>Least Squares</td>  <th>  F-statistic:       </th> <td>   145.9</td>\n",
       "</tr>\n",
       "<tr>\n",
       "  <th>Date:</th>             <td>Tue, 31 Oct 2017</td> <th>  Prob (F-statistic):</th> <td>1.37e-17</td>\n",
       "</tr>\n",
       "<tr>\n",
       "  <th>Time:</th>                 <td>19:42:20</td>     <th>  Log-Likelihood:    </th> <td>  3.6540</td>\n",
       "</tr>\n",
       "<tr>\n",
       "  <th>No. Observations:</th>      <td>    33</td>      <th>  AIC:               </th> <td>  0.6920</td>\n",
       "</tr>\n",
       "<tr>\n",
       "  <th>Df Residuals:</th>          <td>    29</td>      <th>  BIC:               </th> <td>   6.678</td>\n",
       "</tr>\n",
       "<tr>\n",
       "  <th>Df Model:</th>              <td>     3</td>      <th>                     </th>     <td> </td>   \n",
       "</tr>\n",
       "<tr>\n",
       "  <th>Covariance Type:</th>      <td>nonrobust</td>    <th>                     </th>     <td> </td>   \n",
       "</tr>\n",
       "</table>\n",
       "<table class=\"simpletable\">\n",
       "<tr>\n",
       "      <td></td>         <th>coef</th>     <th>std err</th>      <th>t</th>      <th>P>|t|</th>  <th>[0.025</th>    <th>0.975]</th>  \n",
       "</tr>\n",
       "<tr>\n",
       "  <th>Intercept</th> <td>   -0.1716</td> <td>    0.621</td> <td>   -0.276</td> <td> 0.784</td> <td>   -1.441</td> <td>    1.098</td>\n",
       "</tr>\n",
       "<tr>\n",
       "  <th>x_1_new</th>   <td>    0.1280</td> <td>    0.022</td> <td>    5.857</td> <td> 0.000</td> <td>    0.083</td> <td>    0.173</td>\n",
       "</tr>\n",
       "<tr>\n",
       "  <th>x_2_new</th>   <td>    4.3961</td> <td>    1.293</td> <td>    3.400</td> <td> 0.002</td> <td>    1.752</td> <td>    7.040</td>\n",
       "</tr>\n",
       "<tr>\n",
       "  <th>x_3_new</th>   <td>   -0.1156</td> <td>    0.040</td> <td>   -2.913</td> <td> 0.007</td> <td>   -0.197</td> <td>   -0.034</td>\n",
       "</tr>\n",
       "</table>\n",
       "<table class=\"simpletable\">\n",
       "<tr>\n",
       "  <th>Omnibus:</th>       <td> 1.604</td> <th>  Durbin-Watson:     </th> <td>   2.068</td>\n",
       "</tr>\n",
       "<tr>\n",
       "  <th>Prob(Omnibus):</th> <td> 0.449</td> <th>  Jarque-Bera (JB):  </th> <td>   1.252</td>\n",
       "</tr>\n",
       "<tr>\n",
       "  <th>Skew:</th>          <td>-0.266</td> <th>  Prob(JB):          </th> <td>   0.535</td>\n",
       "</tr>\n",
       "<tr>\n",
       "  <th>Kurtosis:</th>      <td> 2.209</td> <th>  Cond. No.          </th> <td>1.27e+03</td>\n",
       "</tr>\n",
       "</table>"
      ],
      "text/plain": [
       "<class 'statsmodels.iolib.summary.Summary'>\n",
       "\"\"\"\n",
       "                            OLS Regression Results                            \n",
       "==============================================================================\n",
       "Dep. Variable:                    y_3   R-squared:                       0.938\n",
       "Model:                            OLS   Adj. R-squared:                  0.931\n",
       "Method:                 Least Squares   F-statistic:                     145.9\n",
       "Date:                Tue, 31 Oct 2017   Prob (F-statistic):           1.37e-17\n",
       "Time:                        19:42:20   Log-Likelihood:                 3.6540\n",
       "No. Observations:                  33   AIC:                            0.6920\n",
       "Df Residuals:                      29   BIC:                             6.678\n",
       "Df Model:                           3                                         \n",
       "Covariance Type:            nonrobust                                         \n",
       "==============================================================================\n",
       "                 coef    std err          t      P>|t|      [0.025      0.975]\n",
       "------------------------------------------------------------------------------\n",
       "Intercept     -0.1716      0.621     -0.276      0.784      -1.441       1.098\n",
       "x_1_new        0.1280      0.022      5.857      0.000       0.083       0.173\n",
       "x_2_new        4.3961      1.293      3.400      0.002       1.752       7.040\n",
       "x_3_new       -0.1156      0.040     -2.913      0.007      -0.197      -0.034\n",
       "==============================================================================\n",
       "Omnibus:                        1.604   Durbin-Watson:                   2.068\n",
       "Prob(Omnibus):                  0.449   Jarque-Bera (JB):                1.252\n",
       "Skew:                          -0.266   Prob(JB):                        0.535\n",
       "Kurtosis:                       2.209   Cond. No.                     1.27e+03\n",
       "==============================================================================\n",
       "\n",
       "Warnings:\n",
       "[1] Standard Errors assume that the covariance matrix of the errors is correctly specified.\n",
       "[2] The condition number is large, 1.27e+03. This might indicate that there are\n",
       "strong multicollinearity or other numerical problems.\n",
       "\"\"\""
      ]
     },
     "execution_count": 40,
     "metadata": {},
     "output_type": "execute_result"
    }
   ],
   "source": [
    "# Multiple linear regression \n",
    "lm = smf.ols('y_3 ~ x_1_new + x_2_new + x_3_new', data = Forest_new)\n",
    "model3 = lm.fit()\n",
    "model3.summary()"
   ]
  },
  {
   "cell_type": "code",
   "execution_count": 41,
   "metadata": {
    "collapsed": true
   },
   "outputs": [],
   "source": [
    "# (I) Construct a plot of the studentized residuals vs Fitted values for \n",
    "# the model in the (h). Does it appear as though the log-transformation \n",
    "# has stabilized the variability of the residuals relative to what was \n",
    "# observed in (g) ? Which model - the one from (g) or the one from (h) - \n",
    "# do feel is the most appropriate ? \n",
    "\n",
    "# First we will again calculate the Studentized residuals of the new model,\n",
    "# but this time we will only plot Studentized Residuals vs Fitted values \n",
    "# for the model.  "
   ]
  },
  {
   "cell_type": "code",
   "execution_count": 42,
   "metadata": {
    "collapsed": true
   },
   "outputs": [],
   "source": [
    "n = len(model3.resid)\n",
    "index = np.linspace(1,n,n)\n",
    "sigma_hat_3 = np.sqrt(model3.scale)\n",
    "X_3 = np.array([np.repeat(1,n), x_1_new, x_2_new, x_3_new]).transpose()\n",
    "H_3 = np.matmul(np.matmul(X_3, np.linalg.inv(np.matmul(X_3.transpose(), X_3))), \n",
    "               X_3.transpose())\n",
    "h_3 = np.diag(H_3)\n",
    "st_resid_3 = model3.resid/(sigma_hat_3*np.sqrt(1-h_3))"
   ]
  },
  {
   "cell_type": "code",
   "execution_count": 43,
   "metadata": {},
   "outputs": [
    {
     "data": {
      "text/plain": [
       "(2.7113607641308373, 5.3057135706287308)"
      ]
     },
     "execution_count": 43,
     "metadata": {},
     "output_type": "execute_result"
    },
    {
     "data": {
      "image/png": "[encoded data removed]",
      "text/plain": [
       "<matplotlib.figure.Figure at 0x11ef09290>"
      ]
     },
     "metadata": {},
     "output_type": "display_data"
    }
   ],
   "source": [
    "# Plot of the studentized residuals vs fitted values\n",
    "plt.figure()\n",
    "plt.scatter(x = model3.fittedvalues, y = st_resid_3, color = \"black\")\n",
    "plt.xlabel(\"Fitted Values\")\n",
    "plt.ylabel(\"Studentized residuals\")\n",
    "plt.title(\"Studentized residuals vs Fitted values\")\n",
    "plt.hlines(y = 0, xmin = np.min(model3.fittedvalues), \n",
    "           xmax = np.max(model3.fittedvalues), color = \"red\", \n",
    "           linewidth = 2)\n",
    "plt.hlines(y = 3, xmin = np.min(model3.fittedvalues), \n",
    "           xmax = np.max(model3.fittedvalues), color = \"red\", \n",
    "           linewidth = 2)\n",
    "plt.hlines(y = -3, xmin = np.min(model3.fittedvalues), \n",
    "           xmax = np.max(model3.fittedvalues),color = \"red\", \n",
    "           linewidth = 2)\n",
    "plt.xlim(np.min(model3.fittedvalues), np.max(model3.fittedvalues))"
   ]
  },
  {
   "cell_type": "code",
   "execution_count": 44,
   "metadata": {
    "collapsed": true
   },
   "outputs": [],
   "source": [
    "# Yes from the plot it looks like that the log transformation has \n",
    "# stablized the variabilityof the residuals related to what we observed \n",
    "# in part G. Out of the two models, the linear model with \n",
    "# log-transformation is seemingly more appropriate than the other, \n",
    "# even though both models excludes the outlier values, but still \n",
    "# Log-transformed model is more appropriate. "
   ]
  }
 ],
 "metadata": {
  "kernelspec": {
   "display_name": "Python 2",
   "language": "python",
   "name": "python2"
  },
  "language_info": {
   "codemirror_mode": {
    "name": "ipython",
    "version": 2
   },
   "file_extension": ".py",
   "mimetype": "text/x-python",
   "name": "python",
   "nbconvert_exporter": "python",
   "pygments_lexer": "ipython2",
   "version": "2.7.13"
  }
 },
 "nbformat": 4,
 "nbformat_minor": 2
}
